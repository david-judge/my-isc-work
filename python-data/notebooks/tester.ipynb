{
 "cells": [
  {
   "cell_type": "code",
   "execution_count": 33,
   "id": "26820ff0-826f-4b13-b1d1-96aefa95301a",
   "metadata": {},
   "outputs": [],
   "source": [
    "ds = Dataset('tester_new.nc', 'w', format='NETCDF4_CLASSIC')"
   ]
  }
 ],
 "metadata": {
  "kernelspec": {
   "display_name": "Python 3 + Jaspy",
   "language": "python",
   "name": "jaspy"
  },
  "language_info": {
   "codemirror_mode": {
    "name": "ipython",
    "version": 3
   },
   "file_extension": ".py",
   "mimetype": "text/x-python",
   "name": "python",
   "nbconvert_exporter": "python",
   "pygments_lexer": "ipython3",
   "version": "3.10.5"
  }
 },
 "nbformat": 4,
 "nbformat_minor": 5
}
